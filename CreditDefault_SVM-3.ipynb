{
  "nbformat": 4,
  "nbformat_minor": 0,
  "metadata": {
    "colab": {
      "provenance": []
    },
    "kernelspec": {
      "name": "python3",
      "display_name": "Python 3"
    },
    "language_info": {
      "name": "python"
    }
  },
  "cells": [
    {
      "cell_type": "code",
      "execution_count": null,
      "metadata": {
        "id": "UoOa1_Vxqp5t"
      },
      "outputs": [],
      "source": [
        "\n",
        "\n"
      ]
    },
    {
      "cell_type": "code",
      "source": [
        "'''final version using undersampling'''\n",
        "\n",
        "\n",
        "import pandas as pd\n",
        "import matplotlib.pyplot as plt\n",
        "from sklearn.model_selection import train_test_split\n",
        "from sklearn.preprocessing import StandardScaler, OneHotEncoder\n",
        "from sklearn.compose import ColumnTransformer\n",
        "from sklearn.pipeline import Pipeline\n",
        "from sklearn.svm import SVC\n",
        "from sklearn.metrics import classification_report, confusion_matrix, ConfusionMatrixDisplay\n",
        "from imblearn.under_sampling import RandomUnderSampler\n",
        "from imblearn.pipeline import make_pipeline as make_pipeline_imblearn\n",
        "\n",
        "# Load data\n",
        "data = pd.read_csv('/content/Loan_default.csv', nrows=10000).drop(\"LoanID\", axis=1)  # Adjust file path as necessary\n",
        "\n",
        "# Define preprocessing for numeric and categorical features\n",
        "numeric_features = ['Age', 'Income', 'LoanAmount', 'CreditScore', 'MonthsEmployed', 'NumCreditLines', 'InterestRate', 'LoanTerm', 'DTIRatio']\n",
        "categorical_features = ['Education', 'EmploymentType', 'MaritalStatus', 'HasMortgage', 'HasDependents', 'LoanPurpose', 'HasCoSigner']\n",
        "\n",
        "preprocessor = ColumnTransformer(\n",
        "    transformers=[\n",
        "        ('num', StandardScaler(), numeric_features),\n",
        "        ('cat', OneHotEncoder(), categorical_features)\n",
        "    ])\n",
        "\n",
        "# Define the SVM Classifier\n",
        "svm = SVC(C=0.5, kernel='rbf', class_weight='balanced')  # Adjust class weights for sensitivity\n",
        "\n",
        "# Create a pipeline that includes preprocessing, RandomUnderSampler, and the SVM classifier\n",
        "pipeline = make_pipeline_imblearn(\n",
        "    preprocessor,\n",
        "    RandomUnderSampler(random_state=42),  # RandomUnderSampler for handling class imbalance\n",
        "    svm\n",
        ")\n",
        "\n",
        "# Split the dataset into training and testing sets\n",
        "X = data.drop('Default', axis=1)\n",
        "y = data['Default']\n",
        "X_train, X_test, y_train, y_test = train_test_split(X, y, test_size=0.2, random_state=42)\n",
        "\n",
        "# Train the model using the pipeline\n",
        "pipeline.fit(X_train, y_train)\n",
        "\n",
        "# Predict using the test set\n",
        "y_pred = pipeline.predict(X_test)\n",
        "\n",
        "# Output the classification report to evaluate the model\n",
        "print(classification_report(y_test, y_pred))\n",
        "\n",
        "# Display the confusion matrix\n",
        "cm = confusion_matrix(y_test, y_pred)\n",
        "disp = ConfusionMatrixDisplay(confusion_matrix=cm)\n",
        "disp.plot()\n",
        "plt.title('Confusion Matrix with Random Undersampling')\n",
        "plt.show()\n"
      ],
      "metadata": {
        "id": "5RkWE8rihcg6",
        "colab": {
          "base_uri": "https://localhost:8080/",
          "height": 625
        },
        "outputId": "39699e69-ee11-4e4a-dcaf-e5eec645330b"
      },
      "execution_count": 1,
      "outputs": [
        {
          "output_type": "stream",
          "name": "stdout",
          "text": [
            "              precision    recall  f1-score   support\n",
            "\n",
            "           0       0.94      0.65      0.77      1762\n",
            "           1       0.21      0.70      0.33       238\n",
            "\n",
            "    accuracy                           0.66      2000\n",
            "   macro avg       0.58      0.67      0.55      2000\n",
            "weighted avg       0.85      0.66      0.72      2000\n",
            "\n"
          ]
        },
        {
          "output_type": "display_data",
          "data": {
            "text/plain": [
              "<Figure size 640x480 with 2 Axes>"
            ],
            "image/png": "[encoded data removed]"
          },
          "metadata": {}
        }
      ]
    },
    {
      "cell_type": "code",
      "source": [
        "\n",
        "\n",
        "\n"
      ],
      "metadata": {
        "id": "dykomvJsjTE4"
      },
      "execution_count": null,
      "outputs": []
    },
    {
      "cell_type": "code",
      "source": [],
      "metadata": {
        "id": "QrHMmVUtndlg"
      },
      "execution_count": null,
      "outputs": []
    },
    {
      "cell_type": "code",
      "source": [
        "\n",
        "\n"
      ],
      "metadata": {
        "id": "sueH4oRZrWcR"
      },
      "execution_count": null,
      "outputs": []
    },
    {
      "cell_type": "code",
      "source": [],
      "metadata": {
        "id": "inxZO3jXrQVd"
      },
      "execution_count": null,
      "outputs": []
    }
  ]
}